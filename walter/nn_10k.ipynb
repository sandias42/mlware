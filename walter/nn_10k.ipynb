{
 "cells": [
  {
   "cell_type": "code",
   "execution_count": 13,
   "metadata": {
    "collapsed": true,
    "deletable": true,
    "editable": true
   },
   "outputs": [],
   "source": [
    "from sklearn.neural_network import MLPClassifier\n",
    "from scipy.io import mmread\n",
    "import numpy as np"
   ]
  },
  {
   "cell_type": "code",
   "execution_count": 14,
   "metadata": {
    "collapsed": true,
    "deletable": true,
    "editable": true
   },
   "outputs": [],
   "source": [
    "malware_classes = [\"Agent\", \"AutoRun\", \"FraudLoad\", \"FraudPack\", \"Hupigon\", \"Krap\",\n",
    "           \"Lipler\", \"Magania\", \"None\", \"Poison\", \"Swizzor\", \"Tdss\",\n",
    "           \"VB\", \"Virut\", \"Zbot\"]\n",
    "\n",
    "# a function for writing predictions in the required format\n",
    "def write_predictions(predictions, ids, outfile):\n",
    "    \"\"\"\n",
    "    assumes len(predictions) == len(ids), and that predictions[i] is the\n",
    "    index of the predicted class with the malware_classes list above for\n",
    "    the executable corresponding to ids[i].\n",
    "    outfile will be overwritten\n",
    "    \"\"\"\n",
    "    with open(outfile,\"w+\") as f:\n",
    "        # write header\n",
    "        f.write(\"Id,Prediction\\n\")\n",
    "        for i, history_id in enumerate(ids):\n",
    "            f.write(\"%s,%d\\n\" % (history_id, predictions[i]))\n",
    "\n",
    "def classes_to_Y(classes):\n",
    "    output = []\n",
    "    for cls in classes:\n",
    "        output.append(malware_classes.index(cls))\n",
    "    return np.array(output)"
   ]
  },
  {
   "cell_type": "code",
   "execution_count": 17,
   "metadata": {
    "collapsed": false,
    "deletable": true,
    "editable": true
   },
   "outputs": [
    {
     "name": "stdout",
     "output_type": "stream",
     "text": [
      "(3724, 10000)\n"
     ]
    }
   ],
   "source": [
    "# load training classes\n",
    "# classes = np.load(\"../data/features/train_classes.npy\")\n",
    "classes = np.load(\"../data/features/train_classes_extra.npy\")\n",
    "\n",
    "# load sparse matrix of training data, convert csr to numpy array\n",
    "# sparse_mat_train_test = mmread(\"../data/features/naive_word_hashed_full_features.mtx\")\n",
    "\n",
    "# sparse = sparse_mat_train_test.toarray()\n",
    "\n",
    "sparse = np.load(\"../data/features/count_vector_full_10k_features_extra.npy\")\n",
    "# sparse = np.load(\"../data/features/count_vector_full_10k_features.npy\")\n",
    "# sparse = np.load(\"../data/features/count_vector_full_10k_features_tfidf.npy\")\n",
    "\n",
    "# pull out training examples\n",
    "X = sparse[:classes.shape[0]]\n",
    "\n",
    "X_test = sparse[classes.shape[0]:]\n",
    "print X_test.shape\n",
    "\n",
    "Y = classes_to_Y(classes)\n",
    "\n",
    "# for manual CV\n",
    "# X_CV = X[-300:]\n",
    "# X = X[:-300]\n",
    "\n",
    "# Y_CV = Y[-300:]\n",
    "# Y = Y[:-300]"
   ]
  },
  {
   "cell_type": "code",
   "execution_count": 12,
   "metadata": {
    "collapsed": false
   },
   "outputs": [
    {
     "name": "stdout",
     "output_type": "stream",
     "text": [
      "{'FraudPack': 27, 'None': 1463, 'Tdss': 30, 'Swizzor': 487, 'Agent': 110, 'VB': 336, 'Lipler': 46, 'Zbot': 34, 'FraudLoad': 32, 'Poison': 19, 'Virut': 53, 'AutoRun': 42, 'Magania': 39, 'Hupigon': 35, 'Krap': 33}\n"
     ]
    }
   ],
   "source": [
    "total_Y_counts = {}\n",
    "for y in Y:\n",
    "    if malware_classes[y] in total_Y_counts:\n",
    "        total_Y_counts[malware_classes[y]] += 1\n",
    "    else:\n",
    "        total_Y_counts[malware_classes[y]] = 1\n",
    "print total_Y_counts"
   ]
  },
  {
   "cell_type": "code",
   "execution_count": 18,
   "metadata": {
    "collapsed": false,
    "deletable": true,
    "editable": true
   },
   "outputs": [
    {
     "data": {
      "text/plain": [
       "MLPClassifier(activation='tanh', alpha=0.0001, batch_size='auto', beta_1=0.9,\n",
       "       beta_2=0.999, early_stopping=False, epsilon=1e-08,\n",
       "       hidden_layer_sizes=400, learning_rate='constant',\n",
       "       learning_rate_init=0.001, max_iter=200, momentum=0.9,\n",
       "       nesterovs_momentum=True, power_t=0.5, random_state=None,\n",
       "       shuffle=True, solver='adam', tol=0.0001, validation_fraction=0.1,\n",
       "       verbose=False, warm_start=False)"
      ]
     },
     "execution_count": 18,
     "metadata": {},
     "output_type": "execute_result"
    }
   ],
   "source": [
    "NN = MLPClassifier(hidden_layer_sizes=(400), activation=\"tanh\")\n",
    "NN.fit(X, Y)"
   ]
  },
  {
   "cell_type": "code",
   "execution_count": 10,
   "metadata": {
    "collapsed": false,
    "deletable": true,
    "editable": true
   },
   "outputs": [
    {
     "name": "stdout",
     "output_type": "stream",
     "text": [
      "11\n",
      "{'FraudPack': 2, 'None': 9, 'Tdss': 1, 'VB': 7, 'Agent': 4, 'Poison': 1, 'Virut': 5, 'AutoRun': 5, 'Magania': 1, 'Hupigon': 4, 'Krap': 4}\n"
     ]
    }
   ],
   "source": [
    "preds = NN.predict(X_CV)\n",
    "\n",
    "mistakes = {}\n",
    "for i in range(len(preds)):\n",
    "    if preds[i] != Y_CV[i]:\n",
    "        cls = malware_classes[Y_CV[i]]\n",
    "        if cls in mistakes:\n",
    "            mistakes[cls] += 1\n",
    "        else:\n",
    "            mistakes[cls] = 1\n",
    "#         print malware_classes[Y_CV[i]]\n",
    "print len(mistakes)\n",
    "print mistakes\n"
   ]
  },
  {
   "cell_type": "code",
   "execution_count": null,
   "metadata": {
    "collapsed": false,
    "deletable": true,
    "editable": true
   },
   "outputs": [],
   "source": [
    "from sklearn.model_selection import cross_val_score\n",
    "cv_score = cross_val_score(NN, X, Y, cv=5)\n",
    "print cv_score\n",
    "print sum(cv_score) / len(cv_score)"
   ]
  },
  {
   "cell_type": "code",
   "execution_count": null,
   "metadata": {
    "collapsed": false,
    "deletable": true,
    "editable": true
   },
   "outputs": [],
   "source": []
  },
  {
   "cell_type": "code",
   "execution_count": 21,
   "metadata": {
    "collapsed": true,
    "deletable": true,
    "editable": true
   },
   "outputs": [],
   "source": [
    "# 400, 200, tanh -> .862\n",
    "# 400, 100, tanh -> .866\n",
    "# 400, 50,  tanh -> .863\n",
    "# 400, 50,  logi -> .867\n",
    "# 200, 100, tanh -> .860\n",
    "# 800,      tanh -> .866\n",
    "# 400,      tanh -> .867\n",
    "# 400,      logi -> .867\n",
    "# 400,      relu -> .855\n",
    "# 200,      tanh -> .862\n",
    "# 100,      tanh -> .858\n",
    "# 400, tanh, tfidf -> .867"
   ]
  },
  {
   "cell_type": "code",
   "execution_count": null,
   "metadata": {
    "collapsed": true,
    "deletable": true,
    "editable": true
   },
   "outputs": [],
   "source": []
  }
 ],
 "metadata": {
  "kernelspec": {
   "display_name": "Python 2",
   "language": "python",
   "name": "python2"
  },
  "language_info": {
   "codemirror_mode": {
    "name": "ipython",
    "version": 2
   },
   "file_extension": ".py",
   "mimetype": "text/x-python",
   "name": "python",
   "nbconvert_exporter": "python",
   "pygments_lexer": "ipython2",
   "version": "2.7.12"
  }
 },
 "nbformat": 4,
 "nbformat_minor": 2
}
