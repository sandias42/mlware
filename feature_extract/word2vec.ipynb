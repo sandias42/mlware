{
 "cells": [
  {
   "cell_type": "code",
   "execution_count": 20,
   "metadata": {
    "collapsed": false
   },
   "outputs": [],
   "source": [
    "from gensim import corpora\n",
    "import gensim\n",
    "import re\n",
    "import os\n",
    "import numpy as np\n",
    "from six import iteritems\n",
    "\n",
    "#converts xml string to list of words, removing \\r\\n and \", splitting on whitespace, < and >\n",
    "def str_to_list(r):\n",
    "    return filter(None, re.split(\"[, <>]+\", re.sub(r'\"|\\r\\n', \"\", r)))\n",
    "\n",
    "train_paths = os.listdir(\"../data/train/\")\n",
    "test_paths = os.listdir(\"../data/test/\")\n",
    "\n",
    "train_ids = []\n",
    "train_class = []\n",
    "test_ids = []\n",
    "\n",
    "   \n",
    "paths = train_paths + test_paths\n",
    "abs_paths = []\n",
    "\n",
    "for i in range(len(paths)):\n",
    "    abs_path = ''\n",
    "\n",
    "    if i >= len(train_paths):\n",
    "        abs_path = os.path.join(\n",
    "            os.path.abspath(\"../data/test/\"), paths[i])\n",
    "\n",
    "    else:\n",
    "        abs_path = os.path.join(\n",
    "            os.path.abspath(\"../data/train/\"), paths[i])\n",
    "    abs_paths.append(abs_path)\n",
    "\n",
    "class MySentences(object):\n",
    "    def __iter__(self):\n",
    "        for path in abs_paths:\n",
    "            yield str_to_list(open(path).read())\n",
    "\n",
    "sentences = MySentences()\n",
    "\n",
    "dictionary = corpora.Dictionary(sentences)\n",
    "once_ids = [tokenid for tokenid, docfreq in iteritems(dictionary.dfs) if docfreq == 1]\n",
    "dictionary.filter_tokens(once_ids)  # remove words that appear only once\n",
    "dictionary.compactify()\n",
    "\n",
    "corpus = [dictionary.doc2bow(s, allow_update=False) for s in sentences]\n",
    "np.save('../data/bow.npy', gensim.matutils.corpus2csc(corpus).todense().T)\n",
    "\n",
    "tfidf = gensim.models.TfidfModel(corpus)\n",
    "corpus_tfidf = tfidf[corpus]\n",
    "np.save('../data/tfidf.npy', gensim.matutils.corpus2csc(corpus_tfidf.corpus).todense().T)\n",
    "\n",
    "lsi = gensim.models.LsiModel(corpus_tfidf, num_topics=300)\n",
    "corpus_lsi = lsi[corpus_tfidf]\n",
    "np.save('../data/lsi.npy', gensim.matutils.corpus2csc(corpus_lsi.corpus).todense().T)"
   ]
  }
 ],
 "metadata": {
  "kernelspec": {
   "display_name": "Python 2",
   "language": "python",
   "name": "python2"
  },
  "language_info": {
   "codemirror_mode": {
    "name": "ipython",
    "version": 2
   },
   "file_extension": ".py",
   "mimetype": "text/x-python",
   "name": "python",
   "nbconvert_exporter": "python",
   "pygments_lexer": "ipython2",
   "version": "2.7.13"
  }
 },
 "nbformat": 4,
 "nbformat_minor": 2
}
